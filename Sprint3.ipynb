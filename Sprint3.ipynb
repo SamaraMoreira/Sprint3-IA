{
  "cells": [
    {
      "cell_type": "markdown",
      "metadata": {
        "id": "view-in-github",
        "colab_type": "text"
      },
      "source": [
        "<a href=\"https://colab.research.google.com/github/SamaraMoreira/Sprint3-IA/blob/main/Sprint3.ipynb\" target=\"_parent\"><img src=\"https://colab.research.google.com/assets/colab-badge.svg\" alt=\"Open In Colab\"/></a>"
      ]
    },
    {
      "cell_type": "code",
      "execution_count": 4,
      "metadata": {
        "id": "cdsdOEhkQvVv",
        "colab": {
          "base_uri": "https://localhost:8080/"
        },
        "outputId": "31177991-9c47-4e27-ae37-efcc86eaea4a"
      },
      "outputs": [
        {
          "output_type": "stream",
          "name": "stdout",
          "text": [
            "Mounted at /content/drive\n",
            "Drive already mounted at /content/drive; to attempt to forcibly remount, call drive.mount(\"/content/drive\", force_remount=True).\n"
          ]
        }
      ],
      "source": [
        "from google.colab import drive\n",
        "drive.mount('/content/drive')"
      ]
    },
    {
      "cell_type": "code",
      "execution_count": 10,
      "metadata": {
        "id": "oKNmQnreRKJn"
      },
      "outputs": [],
      "source": [
        "import pandas as pd\n",
        "from PIL import Image\n",
        "import matplotlib.pyplot as plt\n",
        "from IPython.display import display\n"
      ]
    },
    {
      "cell_type": "code",
      "execution_count": 11,
      "metadata": {
        "id": "GC__J-7SSLWu"
      },
      "outputs": [],
      "source": [
        "bikes =pd.read_csv(\"/bikes100ComE.csv\")"
      ]
    },
    {
      "cell_type": "code",
      "source": [
        "bikes\n"
      ],
      "metadata": {
        "colab": {
          "base_uri": "https://localhost:8080/",
          "height": 424
        },
        "id": "QdtJXjIrBRoO",
        "outputId": "088a9b1b-b666-4acf-8bfd-ed16e4610461"
      },
      "execution_count": 12,
      "outputs": [
        {
          "output_type": "execute_result",
          "data": {
            "text/plain": [
              "    NomeArquivo      Marca       Modelo  Valor  Aro       Cor      Tipo\n",
              "0             1      Caloi       Vulcan   1100   29    branca    urbana\n",
              "1             2      Caloi       Vulcan   1100   29     preta    urbana\n",
              "2             3      Caloi        Velox   1100   29     preta    urbana\n",
              "3             4      Caloi     Explorer   6000   29  vermelha  mountain\n",
              "4             5      Caloi          TMR   4000   29    branca  mountain\n",
              "..          ...        ...          ...    ...  ...       ...       ...\n",
              "95           96  TK3 TRACK       TB 300   1500   26  vermelha  mountain\n",
              "96           97  TK3 TRACK    TB Master   1100   26  vermelha  mountain\n",
              "97           98  TK3 TRACK      Thunder   1200   26    branca  mountain\n",
              "98           99  TK3 TRACK  Dragon Fire   1800   24   amarela    urbana\n",
              "99          100  TK3 TRACK     AXESS OG   1600   24     preta    urbana\n",
              "\n",
              "[100 rows x 7 columns]"
            ],
            "text/html": [
              "\n",
              "  <div id=\"df-254df4d8-dbce-43b9-bfba-cfdb031bc598\" class=\"colab-df-container\">\n",
              "    <div>\n",
              "<style scoped>\n",
              "    .dataframe tbody tr th:only-of-type {\n",
              "        vertical-align: middle;\n",
              "    }\n",
              "\n",
              "    .dataframe tbody tr th {\n",
              "        vertical-align: top;\n",
              "    }\n",
              "\n",
              "    .dataframe thead th {\n",
              "        text-align: right;\n",
              "    }\n",
              "</style>\n",
              "<table border=\"1\" class=\"dataframe\">\n",
              "  <thead>\n",
              "    <tr style=\"text-align: right;\">\n",
              "      <th></th>\n",
              "      <th>NomeArquivo</th>\n",
              "      <th>Marca</th>\n",
              "      <th>Modelo</th>\n",
              "      <th>Valor</th>\n",
              "      <th>Aro</th>\n",
              "      <th>Cor</th>\n",
              "      <th>Tipo</th>\n",
              "    </tr>\n",
              "  </thead>\n",
              "  <tbody>\n",
              "    <tr>\n",
              "      <th>0</th>\n",
              "      <td>1</td>\n",
              "      <td>Caloi</td>\n",
              "      <td>Vulcan</td>\n",
              "      <td>1100</td>\n",
              "      <td>29</td>\n",
              "      <td>branca</td>\n",
              "      <td>urbana</td>\n",
              "    </tr>\n",
              "    <tr>\n",
              "      <th>1</th>\n",
              "      <td>2</td>\n",
              "      <td>Caloi</td>\n",
              "      <td>Vulcan</td>\n",
              "      <td>1100</td>\n",
              "      <td>29</td>\n",
              "      <td>preta</td>\n",
              "      <td>urbana</td>\n",
              "    </tr>\n",
              "    <tr>\n",
              "      <th>2</th>\n",
              "      <td>3</td>\n",
              "      <td>Caloi</td>\n",
              "      <td>Velox</td>\n",
              "      <td>1100</td>\n",
              "      <td>29</td>\n",
              "      <td>preta</td>\n",
              "      <td>urbana</td>\n",
              "    </tr>\n",
              "    <tr>\n",
              "      <th>3</th>\n",
              "      <td>4</td>\n",
              "      <td>Caloi</td>\n",
              "      <td>Explorer</td>\n",
              "      <td>6000</td>\n",
              "      <td>29</td>\n",
              "      <td>vermelha</td>\n",
              "      <td>mountain</td>\n",
              "    </tr>\n",
              "    <tr>\n",
              "      <th>4</th>\n",
              "      <td>5</td>\n",
              "      <td>Caloi</td>\n",
              "      <td>TMR</td>\n",
              "      <td>4000</td>\n",
              "      <td>29</td>\n",
              "      <td>branca</td>\n",
              "      <td>mountain</td>\n",
              "    </tr>\n",
              "    <tr>\n",
              "      <th>...</th>\n",
              "      <td>...</td>\n",
              "      <td>...</td>\n",
              "      <td>...</td>\n",
              "      <td>...</td>\n",
              "      <td>...</td>\n",
              "      <td>...</td>\n",
              "      <td>...</td>\n",
              "    </tr>\n",
              "    <tr>\n",
              "      <th>95</th>\n",
              "      <td>96</td>\n",
              "      <td>TK3 TRACK</td>\n",
              "      <td>TB 300</td>\n",
              "      <td>1500</td>\n",
              "      <td>26</td>\n",
              "      <td>vermelha</td>\n",
              "      <td>mountain</td>\n",
              "    </tr>\n",
              "    <tr>\n",
              "      <th>96</th>\n",
              "      <td>97</td>\n",
              "      <td>TK3 TRACK</td>\n",
              "      <td>TB Master</td>\n",
              "      <td>1100</td>\n",
              "      <td>26</td>\n",
              "      <td>vermelha</td>\n",
              "      <td>mountain</td>\n",
              "    </tr>\n",
              "    <tr>\n",
              "      <th>97</th>\n",
              "      <td>98</td>\n",
              "      <td>TK3 TRACK</td>\n",
              "      <td>Thunder</td>\n",
              "      <td>1200</td>\n",
              "      <td>26</td>\n",
              "      <td>branca</td>\n",
              "      <td>mountain</td>\n",
              "    </tr>\n",
              "    <tr>\n",
              "      <th>98</th>\n",
              "      <td>99</td>\n",
              "      <td>TK3 TRACK</td>\n",
              "      <td>Dragon Fire</td>\n",
              "      <td>1800</td>\n",
              "      <td>24</td>\n",
              "      <td>amarela</td>\n",
              "      <td>urbana</td>\n",
              "    </tr>\n",
              "    <tr>\n",
              "      <th>99</th>\n",
              "      <td>100</td>\n",
              "      <td>TK3 TRACK</td>\n",
              "      <td>AXESS OG</td>\n",
              "      <td>1600</td>\n",
              "      <td>24</td>\n",
              "      <td>preta</td>\n",
              "      <td>urbana</td>\n",
              "    </tr>\n",
              "  </tbody>\n",
              "</table>\n",
              "<p>100 rows × 7 columns</p>\n",
              "</div>\n",
              "    <div class=\"colab-df-buttons\">\n",
              "\n",
              "  <div class=\"colab-df-container\">\n",
              "    <button class=\"colab-df-convert\" onclick=\"convertToInteractive('df-254df4d8-dbce-43b9-bfba-cfdb031bc598')\"\n",
              "            title=\"Convert this dataframe to an interactive table.\"\n",
              "            style=\"display:none;\">\n",
              "\n",
              "  <svg xmlns=\"http://www.w3.org/2000/svg\" height=\"24px\" viewBox=\"0 -960 960 960\">\n",
              "    <path d=\"M120-120v-720h720v720H120Zm60-500h600v-160H180v160Zm220 220h160v-160H400v160Zm0 220h160v-160H400v160ZM180-400h160v-160H180v160Zm440 0h160v-160H620v160ZM180-180h160v-160H180v160Zm440 0h160v-160H620v160Z\"/>\n",
              "  </svg>\n",
              "    </button>\n",
              "\n",
              "  <style>\n",
              "    .colab-df-container {\n",
              "      display:flex;\n",
              "      gap: 12px;\n",
              "    }\n",
              "\n",
              "    .colab-df-convert {\n",
              "      background-color: #E8F0FE;\n",
              "      border: none;\n",
              "      border-radius: 50%;\n",
              "      cursor: pointer;\n",
              "      display: none;\n",
              "      fill: #1967D2;\n",
              "      height: 32px;\n",
              "      padding: 0 0 0 0;\n",
              "      width: 32px;\n",
              "    }\n",
              "\n",
              "    .colab-df-convert:hover {\n",
              "      background-color: #E2EBFA;\n",
              "      box-shadow: 0px 1px 2px rgba(60, 64, 67, 0.3), 0px 1px 3px 1px rgba(60, 64, 67, 0.15);\n",
              "      fill: #174EA6;\n",
              "    }\n",
              "\n",
              "    .colab-df-buttons div {\n",
              "      margin-bottom: 4px;\n",
              "    }\n",
              "\n",
              "    [theme=dark] .colab-df-convert {\n",
              "      background-color: #3B4455;\n",
              "      fill: #D2E3FC;\n",
              "    }\n",
              "\n",
              "    [theme=dark] .colab-df-convert:hover {\n",
              "      background-color: #434B5C;\n",
              "      box-shadow: 0px 1px 3px 1px rgba(0, 0, 0, 0.15);\n",
              "      filter: drop-shadow(0px 1px 2px rgba(0, 0, 0, 0.3));\n",
              "      fill: #FFFFFF;\n",
              "    }\n",
              "  </style>\n",
              "\n",
              "    <script>\n",
              "      const buttonEl =\n",
              "        document.querySelector('#df-254df4d8-dbce-43b9-bfba-cfdb031bc598 button.colab-df-convert');\n",
              "      buttonEl.style.display =\n",
              "        google.colab.kernel.accessAllowed ? 'block' : 'none';\n",
              "\n",
              "      async function convertToInteractive(key) {\n",
              "        const element = document.querySelector('#df-254df4d8-dbce-43b9-bfba-cfdb031bc598');\n",
              "        const dataTable =\n",
              "          await google.colab.kernel.invokeFunction('convertToInteractive',\n",
              "                                                    [key], {});\n",
              "        if (!dataTable) return;\n",
              "\n",
              "        const docLinkHtml = 'Like what you see? Visit the ' +\n",
              "          '<a target=\"_blank\" href=https://colab.research.google.com/notebooks/data_table.ipynb>data table notebook</a>'\n",
              "          + ' to learn more about interactive tables.';\n",
              "        element.innerHTML = '';\n",
              "        dataTable['output_type'] = 'display_data';\n",
              "        await google.colab.output.renderOutput(dataTable, element);\n",
              "        const docLink = document.createElement('div');\n",
              "        docLink.innerHTML = docLinkHtml;\n",
              "        element.appendChild(docLink);\n",
              "      }\n",
              "    </script>\n",
              "  </div>\n",
              "\n",
              "\n",
              "<div id=\"df-acdb3e30-c284-4cb1-af3d-16545ee92aa2\">\n",
              "  <button class=\"colab-df-quickchart\" onclick=\"quickchart('df-acdb3e30-c284-4cb1-af3d-16545ee92aa2')\"\n",
              "            title=\"Suggest charts.\"\n",
              "            style=\"display:none;\">\n",
              "\n",
              "<svg xmlns=\"http://www.w3.org/2000/svg\" height=\"24px\"viewBox=\"0 0 24 24\"\n",
              "     width=\"24px\">\n",
              "    <g>\n",
              "        <path d=\"M19 3H5c-1.1 0-2 .9-2 2v14c0 1.1.9 2 2 2h14c1.1 0 2-.9 2-2V5c0-1.1-.9-2-2-2zM9 17H7v-7h2v7zm4 0h-2V7h2v10zm4 0h-2v-4h2v4z\"/>\n",
              "    </g>\n",
              "</svg>\n",
              "  </button>\n",
              "\n",
              "<style>\n",
              "  .colab-df-quickchart {\n",
              "      --bg-color: #E8F0FE;\n",
              "      --fill-color: #1967D2;\n",
              "      --hover-bg-color: #E2EBFA;\n",
              "      --hover-fill-color: #174EA6;\n",
              "      --disabled-fill-color: #AAA;\n",
              "      --disabled-bg-color: #DDD;\n",
              "  }\n",
              "\n",
              "  [theme=dark] .colab-df-quickchart {\n",
              "      --bg-color: #3B4455;\n",
              "      --fill-color: #D2E3FC;\n",
              "      --hover-bg-color: #434B5C;\n",
              "      --hover-fill-color: #FFFFFF;\n",
              "      --disabled-bg-color: #3B4455;\n",
              "      --disabled-fill-color: #666;\n",
              "  }\n",
              "\n",
              "  .colab-df-quickchart {\n",
              "    background-color: var(--bg-color);\n",
              "    border: none;\n",
              "    border-radius: 50%;\n",
              "    cursor: pointer;\n",
              "    display: none;\n",
              "    fill: var(--fill-color);\n",
              "    height: 32px;\n",
              "    padding: 0;\n",
              "    width: 32px;\n",
              "  }\n",
              "\n",
              "  .colab-df-quickchart:hover {\n",
              "    background-color: var(--hover-bg-color);\n",
              "    box-shadow: 0 1px 2px rgba(60, 64, 67, 0.3), 0 1px 3px 1px rgba(60, 64, 67, 0.15);\n",
              "    fill: var(--button-hover-fill-color);\n",
              "  }\n",
              "\n",
              "  .colab-df-quickchart-complete:disabled,\n",
              "  .colab-df-quickchart-complete:disabled:hover {\n",
              "    background-color: var(--disabled-bg-color);\n",
              "    fill: var(--disabled-fill-color);\n",
              "    box-shadow: none;\n",
              "  }\n",
              "\n",
              "  .colab-df-spinner {\n",
              "    border: 2px solid var(--fill-color);\n",
              "    border-color: transparent;\n",
              "    border-bottom-color: var(--fill-color);\n",
              "    animation:\n",
              "      spin 1s steps(1) infinite;\n",
              "  }\n",
              "\n",
              "  @keyframes spin {\n",
              "    0% {\n",
              "      border-color: transparent;\n",
              "      border-bottom-color: var(--fill-color);\n",
              "      border-left-color: var(--fill-color);\n",
              "    }\n",
              "    20% {\n",
              "      border-color: transparent;\n",
              "      border-left-color: var(--fill-color);\n",
              "      border-top-color: var(--fill-color);\n",
              "    }\n",
              "    30% {\n",
              "      border-color: transparent;\n",
              "      border-left-color: var(--fill-color);\n",
              "      border-top-color: var(--fill-color);\n",
              "      border-right-color: var(--fill-color);\n",
              "    }\n",
              "    40% {\n",
              "      border-color: transparent;\n",
              "      border-right-color: var(--fill-color);\n",
              "      border-top-color: var(--fill-color);\n",
              "    }\n",
              "    60% {\n",
              "      border-color: transparent;\n",
              "      border-right-color: var(--fill-color);\n",
              "    }\n",
              "    80% {\n",
              "      border-color: transparent;\n",
              "      border-right-color: var(--fill-color);\n",
              "      border-bottom-color: var(--fill-color);\n",
              "    }\n",
              "    90% {\n",
              "      border-color: transparent;\n",
              "      border-bottom-color: var(--fill-color);\n",
              "    }\n",
              "  }\n",
              "</style>\n",
              "\n",
              "  <script>\n",
              "    async function quickchart(key) {\n",
              "      const quickchartButtonEl =\n",
              "        document.querySelector('#' + key + ' button');\n",
              "      quickchartButtonEl.disabled = true;  // To prevent multiple clicks.\n",
              "      quickchartButtonEl.classList.add('colab-df-spinner');\n",
              "      try {\n",
              "        const charts = await google.colab.kernel.invokeFunction(\n",
              "            'suggestCharts', [key], {});\n",
              "      } catch (error) {\n",
              "        console.error('Error during call to suggestCharts:', error);\n",
              "      }\n",
              "      quickchartButtonEl.classList.remove('colab-df-spinner');\n",
              "      quickchartButtonEl.classList.add('colab-df-quickchart-complete');\n",
              "    }\n",
              "    (() => {\n",
              "      let quickchartButtonEl =\n",
              "        document.querySelector('#df-acdb3e30-c284-4cb1-af3d-16545ee92aa2 button');\n",
              "      quickchartButtonEl.style.display =\n",
              "        google.colab.kernel.accessAllowed ? 'block' : 'none';\n",
              "    })();\n",
              "  </script>\n",
              "</div>\n",
              "    </div>\n",
              "  </div>\n"
            ]
          },
          "metadata": {},
          "execution_count": 12
        }
      ]
    },
    {
      "cell_type": "code",
      "source": [
        "contagem_por_marca = bikes['Marca'].value_counts()"
      ],
      "metadata": {
        "id": "FmvRHiiyXPsC"
      },
      "execution_count": 13,
      "outputs": []
    },
    {
      "cell_type": "code",
      "source": [
        "contagem_por_marca"
      ],
      "metadata": {
        "id": "RhbTzN3VYKT4",
        "colab": {
          "base_uri": "https://localhost:8080/"
        },
        "outputId": "21d7a9c7-798d-4c77-ac48-27d1a8480bcf"
      },
      "execution_count": 14,
      "outputs": [
        {
          "output_type": "execute_result",
          "data": {
            "text/plain": [
              "Caloi          17\n",
              "TK3 TRACK      17\n",
              "OGGI           12\n",
              "TSW             8\n",
              "Sense           7\n",
              "Specialized     5\n",
              "Cervélo         4\n",
              "OX Bikes        4\n",
              "Rino            2\n",
              "Gt              2\n",
              "GTS PRO M5      2\n",
              "Kona            2\n",
              "Redstone        2\n",
              "GTS             2\n",
              "Scott           2\n",
              "Absolute        2\n",
              "Gios            1\n",
              "Ultra Bikes     1\n",
              "KSW             1\n",
              "Avance          1\n",
              "KRW             1\n",
              "Santa Cruz      1\n",
              "Cannondale      1\n",
              "First Bike      1\n",
              "Soul            1\n",
              "VikingX         1\n",
              "Name: Marca, dtype: int64"
            ]
          },
          "metadata": {},
          "execution_count": 14
        }
      ]
    },
    {
      "cell_type": "code",
      "source": [
        "plt.figure(figsize=(10, 6))\n",
        "contagem_por_marca.plot(kind='bar', color='skyblue')\n",
        "plt.title(\"Quantidade de Bicicletas por Marca\")\n",
        "plt.xlabel(\"Marca\")\n",
        "plt.ylabel(\"Quantidade\")\n",
        "plt.xticks(rotation=45)\n",
        "plt.tight_layout()"
      ],
      "metadata": {
        "colab": {
          "base_uri": "https://localhost:8080/",
          "height": 607
        },
        "id": "L5qVeHQIVfAY",
        "outputId": "c2c532ab-2e42-440a-a57b-d8b77224d336"
      },
      "execution_count": 15,
      "outputs": [
        {
          "output_type": "display_data",
          "data": {
            "text/plain": [
              "<Figure size 1000x600 with 1 Axes>"
            ],
            "image/png": "[encoded data removed]"
          },
          "metadata": {}
        }
      ]
    },
    {
      "cell_type": "code",
      "source": [
        "indice_bike_mais_cara = bikes['Valor'].idxmax()\n",
        "bike_mais_cara = bikes.loc[indice_bike_mais_cara]\n",
        "indice_bike_mais_barata = bikes['Valor'].idxmin()\n",
        "bike_mais_barata = bikes.loc[indice_bike_mais_barata]\n",
        "valor_medio = bikes [\"Valor\"].mean()"
      ],
      "metadata": {
        "id": "ZLalySgRZI1a"
      },
      "execution_count": null,
      "outputs": []
    },
    {
      "cell_type": "code",
      "source": [
        "print(\"Bike mais cara:\")\n",
        "bike_mais_cara\n"
      ],
      "metadata": {
        "colab": {
          "base_uri": "https://localhost:8080/"
        },
        "id": "IT1CEe1aZZOB",
        "outputId": "363d43c3-28d2-4b21-cee8-f91090cf4b24"
      },
      "execution_count": null,
      "outputs": [
        {
          "output_type": "stream",
          "name": "stdout",
          "text": [
            "Bike mais cara:\n"
          ]
        },
        {
          "output_type": "execute_result",
          "data": {
            "text/plain": [
              "NomeArquivo             63\n",
              "Marca          Specialized\n",
              "Modelo          Tarmac T58\n",
              "Valor                26000\n",
              "Aro                     29\n",
              "Cor                  preta\n",
              "Tipo              mountain\n",
              "Name: 62, dtype: object"
            ]
          },
          "metadata": {},
          "execution_count": 287
        }
      ]
    },
    {
      "cell_type": "code",
      "source": [
        "print(\" Bike mais barata:\")\n",
        "bike_mais_barata"
      ],
      "metadata": {
        "colab": {
          "base_uri": "https://localhost:8080/"
        },
        "id": "aJLKQrdCafHU",
        "outputId": "4e6d8b67-7097-4eeb-9aac-e10c446c4c4f"
      },
      "execution_count": null,
      "outputs": [
        {
          "output_type": "stream",
          "name": "stdout",
          "text": [
            " Bike mais barata:\n"
          ]
        },
        {
          "output_type": "execute_result",
          "data": {
            "text/plain": [
              "NomeArquivo          37\n",
              "Marca               GTS\n",
              "Modelo             Fell\n",
              "Valor              1000\n",
              "Aro                  29\n",
              "Cor               preta\n",
              "Tipo           mountain\n",
              "Name: 36, dtype: object"
            ]
          },
          "metadata": {},
          "execution_count": 288
        }
      ]
    },
    {
      "cell_type": "code",
      "source": [
        "print(\" Valor médio das bikes:\")\n",
        "valor_medio"
      ],
      "metadata": {
        "colab": {
          "base_uri": "https://localhost:8080/"
        },
        "id": "IXqAFtaDahba",
        "outputId": "d0b1d813-e15b-4b6f-d367-e6dfe0c82ed3"
      },
      "execution_count": null,
      "outputs": [
        {
          "output_type": "stream",
          "name": "stdout",
          "text": [
            " Valor médio das bikes:\n"
          ]
        },
        {
          "output_type": "execute_result",
          "data": {
            "text/plain": [
              "5253.4"
            ]
          },
          "metadata": {},
          "execution_count": 289
        }
      ]
    },
    {
      "cell_type": "code",
      "source": [
        "contagem_por_valor = bikes['Valor'].value_counts()"
      ],
      "metadata": {
        "id": "Unp6rJ5Jazg7"
      },
      "execution_count": 16,
      "outputs": []
    },
    {
      "cell_type": "code",
      "source": [
        "print(\"Quantidade de bike por valor\")\n",
        "contagem_por_valor"
      ],
      "metadata": {
        "colab": {
          "base_uri": "https://localhost:8080/"
        },
        "id": "6RaHIfFh8ph4",
        "outputId": "366cdde5-bb40-42cc-fda6-bc4a888c3a90"
      },
      "execution_count": 21,
      "outputs": [
        {
          "output_type": "stream",
          "name": "stdout",
          "text": [
            "Quantidade de bike por valor\n"
          ]
        },
        {
          "output_type": "execute_result",
          "data": {
            "text/plain": [
              "1100     8\n",
              "1600     6\n",
              "4000     5\n",
              "12000    5\n",
              "2000     5\n",
              "2200     4\n",
              "2400     4\n",
              "1500     4\n",
              "1400     4\n",
              "2800     3\n",
              "2300     3\n",
              "2600     3\n",
              "7000     3\n",
              "3500     3\n",
              "10200    2\n",
              "20000    2\n",
              "2690     2\n",
              "1200     2\n",
              "8900     2\n",
              "5600     2\n",
              "3200     2\n",
              "1800     2\n",
              "23000    2\n",
              "5200     2\n",
              "26000    2\n",
              "3000     1\n",
              "1960     1\n",
              "11200    1\n",
              "17000    1\n",
              "8000     1\n",
              "2500     1\n",
              "4800     1\n",
              "10000    1\n",
              "1900     1\n",
              "15000    1\n",
              "1000     1\n",
              "6000     1\n",
              "6500     1\n",
              "6300     1\n",
              "7500     1\n",
              "1300     1\n",
              "5000     1\n",
              "7800     1\n",
              "Name: Valor, dtype: int64"
            ]
          },
          "metadata": {},
          "execution_count": 21
        }
      ]
    },
    {
      "cell_type": "code",
      "source": [
        "plt.figure(figsize=(10, 6))\n",
        "contagem_por_valor.plot(kind='bar', color='skyblue')\n",
        "plt.title(\"Quantidade de Bicicletas por Valor\")\n",
        "plt.xlabel(\"Valor\")\n",
        "plt.ylabel(\"Quantidade\")\n",
        "plt.xticks(rotation=45)\n",
        "plt.tight_layout()"
      ],
      "metadata": {
        "colab": {
          "base_uri": "https://localhost:8080/",
          "height": 607
        },
        "id": "b07VH4tea5Q5",
        "outputId": "b85f47c7-4238-4af9-a20f-7c44f7dba2c7"
      },
      "execution_count": 18,
      "outputs": [
        {
          "output_type": "display_data",
          "data": {
            "text/plain": [
              "<Figure size 1000x600 with 1 Axes>"
            ],
            "image/png": "[encoded data removed]"
          },
          "metadata": {}
        }
      ]
    },
    {
      "cell_type": "code",
      "source": [
        "contagem_por_aro = bikes['Aro'].value_counts()"
      ],
      "metadata": {
        "id": "3bqU25RWThZJ"
      },
      "execution_count": 19,
      "outputs": []
    },
    {
      "cell_type": "code",
      "source": [
        "print(\"Quantidade de bike por Aro\")\n",
        "contagem_por_aro"
      ],
      "metadata": {
        "colab": {
          "base_uri": "https://localhost:8080/"
        },
        "id": "xd5W2haQTmsH",
        "outputId": "7b4c6c23-58a0-4928-f8b6-1ecbe6f5a4e8"
      },
      "execution_count": 20,
      "outputs": [
        {
          "output_type": "stream",
          "name": "stdout",
          "text": [
            "Quantidade de bike por Aro\n"
          ]
        },
        {
          "output_type": "execute_result",
          "data": {
            "text/plain": [
              "29    83\n",
              "26    14\n",
              "24     2\n",
              "20     1\n",
              "Name: Aro, dtype: int64"
            ]
          },
          "metadata": {},
          "execution_count": 20
        }
      ]
    },
    {
      "cell_type": "code",
      "source": [
        "contagem_por_cor = bikes['Cor'].value_counts()"
      ],
      "metadata": {
        "id": "L7Udf6miQwzP"
      },
      "execution_count": null,
      "outputs": []
    },
    {
      "cell_type": "code",
      "source": [
        "print(\"Quantidade de bike por Cor\")\n",
        "contagem_por_cor"
      ],
      "metadata": {
        "colab": {
          "base_uri": "https://localhost:8080/"
        },
        "id": "RRhNMhAyQz1J",
        "outputId": "1a199b7b-5f70-4749-da26-6e5e9570d397"
      },
      "execution_count": null,
      "outputs": [
        {
          "output_type": "stream",
          "name": "stdout",
          "text": [
            "Quantidade de bike por Cor\n"
          ]
        },
        {
          "output_type": "execute_result",
          "data": {
            "text/plain": [
              "preta       31\n",
              "vermelha    17\n",
              "branca      15\n",
              "azul        11\n",
              "rosa         6\n",
              "verde        5\n",
              "amarela      4\n",
              "cinza        4\n",
              "prata        3\n",
              "laranja      2\n",
              "roxa         2\n",
              "Name: Cor, dtype: int64"
            ]
          },
          "metadata": {},
          "execution_count": 178
        }
      ]
    },
    {
      "cell_type": "code",
      "source": [
        "plt.figure(figsize=(10, 6))\n",
        "contagem_por_cor.plot(kind='bar', color='skyblue')\n",
        "plt.title(\"Quantidade de Bicicletas por Cor\")\n",
        "plt.xlabel(\"Cor\")\n",
        "plt.ylabel(\"Quantidade\")\n",
        "plt.xticks(rotation=45)\n",
        "plt.tight_layout()"
      ],
      "metadata": {
        "colab": {
          "base_uri": "https://localhost:8080/",
          "height": 607
        },
        "id": "8_4RpO1FUoNi",
        "outputId": "962f7a31-e41b-4e68-872c-d5a6bba99b39"
      },
      "execution_count": null,
      "outputs": [
        {
          "output_type": "display_data",
          "data": {
            "text/plain": [
              "<Figure size 1000x600 with 1 Axes>"
            ],
            "image/png": "[encoded data removed]"
          },
          "metadata": {}
        }
      ]
    },
    {
      "cell_type": "code",
      "source": [
        "contagem_por_tipo = bikes['Tipo'].value_counts()"
      ],
      "metadata": {
        "id": "aaqbWurOQq3H"
      },
      "execution_count": null,
      "outputs": []
    },
    {
      "cell_type": "code",
      "source": [
        "print(\"Quantidade de bike por tipo\")\n",
        "contagem_por_tipo"
      ],
      "metadata": {
        "colab": {
          "base_uri": "https://localhost:8080/"
        },
        "id": "Qn3KUxMWQsQj",
        "outputId": "3826a04d-3ef1-4a39-c029-5f8874aea7b8"
      },
      "execution_count": null,
      "outputs": [
        {
          "output_type": "stream",
          "name": "stdout",
          "text": [
            "Quantidade de bike por tipo\n"
          ]
        },
        {
          "output_type": "execute_result",
          "data": {
            "text/plain": [
              "mountain    73\n",
              "urbana      25\n",
              "elétrica     2\n",
              "Name: Tipo, dtype: int64"
            ]
          },
          "metadata": {},
          "execution_count": 179
        }
      ]
    }
  ],
  "metadata": {
    "colab": {
      "provenance": [],
      "include_colab_link": true
    },
    "kernelspec": {
      "display_name": "Python 3",
      "name": "python3"
    }
  },
  "nbformat": 4,
  "nbformat_minor": 0
}